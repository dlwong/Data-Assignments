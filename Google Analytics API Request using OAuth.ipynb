{
 "cells": [
  {
   "cell_type": "code",
   "execution_count": 27,
   "metadata": {},
   "outputs": [],
   "source": [
    "import pandas as pd\n",
    "from gaAPI import *\n",
    "import matplotlib.pyplot as plt"
   ]
  },
  {
   "cell_type": "code",
   "execution_count": 68,
   "metadata": {},
   "outputs": [],
   "source": [
    "import cufflinks as cf"
   ]
  },
  {
   "cell_type": "code",
   "execution_count": 42,
   "metadata": {},
   "outputs": [],
   "source": [
    "import ipywidgets as widgets\n",
    "from ipywidgets import interact, interact_manual"
   ]
  },
  {
   "cell_type": "code",
   "execution_count": 19,
   "metadata": {},
   "outputs": [],
   "source": [
    "gaView = \"\"\n",
    "start_date = '2019-01-01'\n",
    "end_date = '2019-11-30'\n",
    "metrics = [{\"expression\": \"ga:users\"}]\n",
    "dimensions = [{'name': 'ga:userType'}, {\"name\": \"ga:segment\"}]\n",
    "segments = [{\"segmentId\": \"\"}]\n",
    "CLIENT_SECRETS_PATH = 'client_secret.json'\n",
    "\n",
    "group_by = []"
   ]
  },
  {
   "cell_type": "code",
   "execution_count": 31,
   "metadata": {},
   "outputs": [],
   "source": [
    "# Initiate the analytics client\n",
    "analytics = initialize_analyticsreporting(CLIENT_SECRETS_PATH)"
   ]
  },
  {
   "cell_type": "code",
   "execution_count": 21,
   "metadata": {},
   "outputs": [],
   "source": [
    "result = get_report(analytics, start_date, end_date, gaView, metrics, dimensions, segments)"
   ]
  },
  {
   "cell_type": "code",
   "execution_count": 22,
   "metadata": {},
   "outputs": [
    {
     "data": {
      "text/plain": [
       "{u'reports': [{u'columnHeader': {u'dimensions': [u'ga:userType',\n",
       "     u'ga:segment'],\n",
       "    u'metricHeader': {u'metricHeaderEntries': [{u'name': u'ga:users',\n",
       "       u'type': u'INTEGER'}]}},\n",
       "   u'data': {u'isDataGolden': True,\n",
       "    u'maximums': [{u'values': [u'37297']}],\n",
       "    u'minimums': [{u'values': [u'11387']}],\n",
       "    u'rowCount': 2,\n",
       "    u'rows': [{u'dimensions': [u'New Visitor', u'All Users'],\n",
       "      u'metrics': [{u'values': [u'37297']}]},\n",
       "     {u'dimensions': [u'Returning Visitor', u'All Users'],\n",
       "      u'metrics': [{u'values': [u'11387']}]}],\n",
       "    u'totals': [{u'values': [u'48684']}]}}]}"
      ]
     },
     "execution_count": 22,
     "metadata": {},
     "output_type": "execute_result"
    }
   ],
   "source": [
    "result"
   ]
  },
  {
   "cell_type": "code",
   "execution_count": 23,
   "metadata": {},
   "outputs": [],
   "source": [
    "df = pd.DataFrame(print_response(result))"
   ]
  },
  {
   "cell_type": "code",
   "execution_count": 24,
   "metadata": {},
   "outputs": [
    {
     "data": {
      "text/html": [
       "<div>\n",
       "<style scoped>\n",
       "    .dataframe tbody tr th:only-of-type {\n",
       "        vertical-align: middle;\n",
       "    }\n",
       "\n",
       "    .dataframe tbody tr th {\n",
       "        vertical-align: top;\n",
       "    }\n",
       "\n",
       "    .dataframe thead th {\n",
       "        text-align: right;\n",
       "    }\n",
       "</style>\n",
       "<table border=\"1\" class=\"dataframe\">\n",
       "  <thead>\n",
       "    <tr style=\"text-align: right;\">\n",
       "      <th></th>\n",
       "      <th>ga:segment</th>\n",
       "      <th>ga:userType</th>\n",
       "      <th>ga:users</th>\n",
       "    </tr>\n",
       "  </thead>\n",
       "  <tbody>\n",
       "    <tr>\n",
       "      <th>0</th>\n",
       "      <td>All Users</td>\n",
       "      <td>New Visitor</td>\n",
       "      <td>37297</td>\n",
       "    </tr>\n",
       "    <tr>\n",
       "      <th>1</th>\n",
       "      <td>All Users</td>\n",
       "      <td>Returning Visitor</td>\n",
       "      <td>11387</td>\n",
       "    </tr>\n",
       "  </tbody>\n",
       "</table>\n",
       "</div>"
      ],
      "text/plain": [
       "  ga:segment        ga:userType  ga:users\n",
       "0  All Users        New Visitor     37297\n",
       "1  All Users  Returning Visitor     11387"
      ]
     },
     "execution_count": 24,
     "metadata": {},
     "output_type": "execute_result"
    }
   ],
   "source": [
    "df"
   ]
  },
  {
   "cell_type": "code",
   "execution_count": 29,
   "metadata": {},
   "outputs": [
    {
     "data": {
      "text/plain": [
       "<matplotlib.axes._subplots.AxesSubplot at 0x11d4b1fd0>"
      ]
     },
     "execution_count": 29,
     "metadata": {},
     "output_type": "execute_result"
    },
    {
     "data": {
      "image/png": "[encoded data removed]",
      "text/plain": [
       "<Figure size 720x432 with 1 Axes>"
      ]
     },
     "metadata": {},
     "output_type": "display_data"
    }
   ],
   "source": [
    "df.plot.bar(x='ga:userType', y=['ga:users'], ylim=[0,None], figsize=[10, 6])"
   ]
  },
  {
   "cell_type": "code",
   "execution_count": 26,
   "metadata": {},
   "outputs": [],
   "source": [
    "df.to_csv('result.csv')"
   ]
  },
  {
   "cell_type": "code",
   "execution_count": 109,
   "metadata": {},
   "outputs": [],
   "source": [
    "gaView = \"\"\n",
    "start_date = '2019-01-01'\n",
    "end_date = '2019-01-31'\n",
    "metrics = [{\"expression\": \"ga:users\"}]\n",
    "dimensions = [{'name': 'ga:source'}, {\"name\": \"ga:dayOfWeek\"}, {\"name\": \"ga:segment\"}]\n",
    "segments = [{\"segmentId\": \"\"}]\n",
    "CLIENT_SECRETS_PATH = 'client_secret.json'\n",
    "\n",
    "result = get_report(analytics, start_date, end_date, gaView, metrics, dimensions, segments)\n",
    "\n",
    "df = pd.DataFrame(print_response(result))"
   ]
  },
  {
   "cell_type": "code",
   "execution_count": 110,
   "metadata": {},
   "outputs": [
    {
     "data": {
      "text/html": [
       "<div>\n",
       "<style scoped>\n",
       "    .dataframe tbody tr th:only-of-type {\n",
       "        vertical-align: middle;\n",
       "    }\n",
       "\n",
       "    .dataframe tbody tr th {\n",
       "        vertical-align: top;\n",
       "    }\n",
       "\n",
       "    .dataframe thead th {\n",
       "        text-align: right;\n",
       "    }\n",
       "</style>\n",
       "<table border=\"1\" class=\"dataframe\">\n",
       "  <thead>\n",
       "    <tr style=\"text-align: right;\">\n",
       "      <th></th>\n",
       "      <th>ga:dayOfWeek</th>\n",
       "      <th>ga:segment</th>\n",
       "      <th>ga:source</th>\n",
       "      <th>ga:users</th>\n",
       "    </tr>\n",
       "  </thead>\n",
       "  <tbody>\n",
       "    <tr>\n",
       "      <th>0</th>\n",
       "      <td>0</td>\n",
       "      <td>New Users</td>\n",
       "      <td>(direct)</td>\n",
       "      <td>5</td>\n",
       "    </tr>\n",
       "    <tr>\n",
       "      <th>1</th>\n",
       "      <td>1</td>\n",
       "      <td>New Users</td>\n",
       "      <td>(direct)</td>\n",
       "      <td>4</td>\n",
       "    </tr>\n",
       "    <tr>\n",
       "      <th>2</th>\n",
       "      <td>2</td>\n",
       "      <td>New Users</td>\n",
       "      <td>(direct)</td>\n",
       "      <td>119</td>\n",
       "    </tr>\n",
       "    <tr>\n",
       "      <th>3</th>\n",
       "      <td>3</td>\n",
       "      <td>New Users</td>\n",
       "      <td>(direct)</td>\n",
       "      <td>44</td>\n",
       "    </tr>\n",
       "    <tr>\n",
       "      <th>4</th>\n",
       "      <td>4</td>\n",
       "      <td>New Users</td>\n",
       "      <td>(direct)</td>\n",
       "      <td>98</td>\n",
       "    </tr>\n",
       "    <tr>\n",
       "      <th>5</th>\n",
       "      <td>5</td>\n",
       "      <td>New Users</td>\n",
       "      <td>(direct)</td>\n",
       "      <td>7</td>\n",
       "    </tr>\n",
       "    <tr>\n",
       "      <th>6</th>\n",
       "      <td>2</td>\n",
       "      <td>New Users</td>\n",
       "      <td>be_emailverif</td>\n",
       "      <td>1</td>\n",
       "    </tr>\n",
       "    <tr>\n",
       "      <th>7</th>\n",
       "      <td>5</td>\n",
       "      <td>New Users</td>\n",
       "      <td>be_emailverif</td>\n",
       "      <td>1</td>\n",
       "    </tr>\n",
       "    <tr>\n",
       "      <th>8</th>\n",
       "      <td>4</td>\n",
       "      <td>New Users</td>\n",
       "      <td>be_welcome</td>\n",
       "      <td>1</td>\n",
       "    </tr>\n",
       "    <tr>\n",
       "      <th>9</th>\n",
       "      <td>5</td>\n",
       "      <td>New Users</td>\n",
       "      <td>be_welcome</td>\n",
       "      <td>1</td>\n",
       "    </tr>\n",
       "  </tbody>\n",
       "</table>\n",
       "</div>"
      ],
      "text/plain": [
       "  ga:dayOfWeek ga:segment      ga:source  ga:users\n",
       "0            0  New Users       (direct)         5\n",
       "1            1  New Users       (direct)         4\n",
       "2            2  New Users       (direct)       119\n",
       "3            3  New Users       (direct)        44\n",
       "4            4  New Users       (direct)        98\n",
       "5            5  New Users       (direct)         7\n",
       "6            2  New Users  be_emailverif         1\n",
       "7            5  New Users  be_emailverif         1\n",
       "8            4  New Users     be_welcome         1\n",
       "9            5  New Users     be_welcome         1"
      ]
     },
     "execution_count": 110,
     "metadata": {},
     "output_type": "execute_result"
    }
   ],
   "source": [
    "df"
   ]
  },
  {
   "cell_type": "code",
   "execution_count": 111,
   "metadata": {},
   "outputs": [
    {
     "data": {
      "text/plain": [
       "<matplotlib.axes._subplots.AxesSubplot at 0x1c220d23d0>"
      ]
     },
     "execution_count": 111,
     "metadata": {},
     "output_type": "execute_result"
    },
    {
     "data": {
      "image/png": "[encoded data removed]",
      "text/plain": [
       "<Figure size 720x432 with 1 Axes>"
      ]
     },
     "metadata": {},
     "output_type": "display_data"
    }
   ],
   "source": [
    "df.plot(kind='bar', x='ga:dayOfWeek', y=['ga:users'], ylim=[0,None], figsize=[10, 6])"
   ]
  },
  {
   "cell_type": "code",
   "execution_count": 97,
   "metadata": {
    "scrolled": false
   },
   "outputs": [
    {
     "data": {
      "text/plain": [
       "<matplotlib.axes._subplots.AxesSubplot at 0x11d8f3f90>"
      ]
     },
     "execution_count": 97,
     "metadata": {},
     "output_type": "execute_result"
    },
    {
     "data": {
      "image/png": "[encoded data removed]",
      "text/plain": [
       "<Figure size 720x432 with 1 Axes>"
      ]
     },
     "metadata": {},
     "output_type": "display_data"
    }
   ],
   "source": [
    "gaView = \"\"\n",
    "start_date = '2019-01-01'\n",
    "end_date = '2019-01-31'\n",
    "metrics = [{\"expression\": \"ga:users\"}]\n",
    "dimensions = [{'name': 'ga:daysSinceLastSession'}, {\"name\": \"ga:segment\"}]\n",
    "segments = [{\"segmentId\": \"\"}]\n",
    "\n",
    "result = get_report(analytics, start_date, end_date, gaView, metrics, dimensions, segments)\n",
    "\n",
    "df = pd.DataFrame(print_response(result))\n",
    "\n",
    "df['ga:daysSinceLastSession'] = df['ga:daysSinceLastSession'].astype(str).astype(int)\n",
    "\n",
    "df.plot(kind='scatter', x='ga:daysSinceLastSession', y=['ga:users'], ylim=[0,None], figsize=[10, 6])"
   ]
  },
  {
   "cell_type": "code",
   "execution_count": 41,
   "metadata": {},
   "outputs": [
    {
     "data": {
      "text/plain": [
       "<matplotlib.axes._subplots.AxesSubplot at 0x11db2f3d0>"
      ]
     },
     "execution_count": 41,
     "metadata": {},
     "output_type": "execute_result"
    },
    {
     "data": {
      "image/png": "[encoded data removed]",
      "text/plain": [
       "<Figure size 720x432 with 1 Axes>"
      ]
     },
     "metadata": {},
     "output_type": "display_data"
    }
   ],
   "source": [
    "gaView = \"\"\n",
    "start_date = '2019-01-01'\n",
    "end_date = '2019-12-31'\n",
    "metrics = [{\"expression\": \"ga:users\"}]\n",
    "dimensions = [{'name': 'ga:yearMonth'}, {\"name\": \"ga:segment\"}]\n",
    "segments = [{\"segmentId\": \"\"}]\n",
    "\n",
    "result = get_report(analytics, start_date, end_date, gaView, metrics, dimensions, segments)\n",
    "\n",
    "df = pd.DataFrame(print_response(result))\n",
    "\n",
    "df.plot.line(x='ga:yearMonth', y=['ga:users'], ylim=[0,None], figsize=[10, 6])"
   ]
  },
  {
   "cell_type": "code",
   "execution_count": 52,
   "metadata": {},
   "outputs": [
    {
     "data": {
      "text/plain": [
       "12544"
      ]
     },
     "execution_count": 52,
     "metadata": {},
     "output_type": "execute_result"
    }
   ],
   "source": [
    "df['ga:users'].max()"
   ]
  },
  {
   "cell_type": "code",
   "execution_count": 54,
   "metadata": {
    "scrolled": true
   },
   "outputs": [
    {
     "data": {
      "application/vnd.jupyter.widget-view+json": {
       "model_id": "12ab7618a6264361812939a6ddc589f6",
       "version_major": 2,
       "version_minor": 0
      },
      "text/plain": [
       "aW50ZXJhY3RpdmUoY2hpbGRyZW49KERyb3Bkb3duKGRlc2NyaXB0aW9uPXUnY29sdW1uJywgb3B0aW9ucz0oJ2dhOnVzZXJzJywpLCB2YWx1ZT0nZ2E6dXNlcnMnKSwgSW50U2xpZGVyKHZhbHXigKY=\n"
      ]
     },
     "metadata": {},
     "output_type": "display_data"
    }
   ],
   "source": [
    "@interact\n",
    "def show_users(column = ['ga:users'], x = (0, 12544, 10)):\n",
    "    return df.loc[df[column] > x]"
   ]
  },
  {
   "cell_type": "code",
   "execution_count": null,
   "metadata": {},
   "outputs": [],
   "source": []
  }
 ],
 "metadata": {
  "kernelspec": {
   "display_name": "Python 2",
   "language": "python",
   "name": "python2"
  },
  "language_info": {
   "codemirror_mode": {
    "name": "ipython",
    "version": 2
   },
   "file_extension": ".py",
   "mimetype": "text/x-python",
   "name": "python",
   "nbconvert_exporter": "python",
   "pygments_lexer": "ipython2",
   "version": "2.7.15"
  }
 },
 "nbformat": 4,
 "nbformat_minor": 2
}
