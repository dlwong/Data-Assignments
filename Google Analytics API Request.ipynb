{
 "cells": [
  {
   "cell_type": "code",
   "execution_count": 1,
   "metadata": {},
   "outputs": [],
   "source": [
    "import pandas as pd\n",
    "from gaAPI import *"
   ]
  },
  {
   "cell_type": "code",
   "execution_count": 13,
   "metadata": {},
   "outputs": [],
   "source": [
    "gaView = \"\"\n",
    "start_date = '2019-01-01'\n",
    "end_date = '2019-11-30'\n",
    "metrics = [{\"expression\": \"ga:users\"}]\n",
    "dimensions = [{'name': 'ga:userType'}, {\"name\": \"ga:segment\"}]\n",
    "segments = [{\"segmentId\": \"\"}]\n",
    "CLIENT_SECRETS_PATH = 'client_secret.json'\n",
    "\n",
    "group_by = []"
   ]
  },
  {
   "cell_type": "code",
   "execution_count": 6,
   "metadata": {},
   "outputs": [],
   "source": [
    "# Initiate the analytics client\n",
    "analytics = initialize_analyticsreporting(CLIENT_SECRETS_PATH)"
   ]
  },
  {
   "cell_type": "code",
   "execution_count": 14,
   "metadata": {},
   "outputs": [],
   "source": [
    "result = get_report(analytics, start_date, end_date, gaView, metrics, dimensions, segments)"
   ]
  },
  {
   "cell_type": "code",
   "execution_count": 15,
   "metadata": {},
   "outputs": [
    {
     "data": {
      "text/plain": [
       "{u'reports': [{u'columnHeader': {u'dimensions': [u'ga:userType',\n",
       "     u'ga:segment'],\n",
       "    u'metricHeader': {u'metricHeaderEntries': [{u'name': u'ga:users',\n",
       "       u'type': u'INTEGER'}]}},\n",
       "   u'data': {u'isDataGolden': True,\n",
       "    u'maximums': [{u'values': [u'37297']}],\n",
       "    u'minimums': [{u'values': [u'11387']}],\n",
       "    u'rowCount': 2,\n",
       "    u'rows': [{u'dimensions': [u'New Visitor', u'All Users'],\n",
       "      u'metrics': [{u'values': [u'37297']}]},\n",
       "     {u'dimensions': [u'Returning Visitor', u'All Users'],\n",
       "      u'metrics': [{u'values': [u'11387']}]}],\n",
       "    u'totals': [{u'values': [u'48684']}]}}]}"
      ]
     },
     "execution_count": 15,
     "metadata": {},
     "output_type": "execute_result"
    }
   ],
   "source": [
    "result"
   ]
  },
  {
   "cell_type": "code",
   "execution_count": 16,
   "metadata": {},
   "outputs": [],
   "source": [
    "df = pd.DataFrame(print_response(result))"
   ]
  },
  {
   "cell_type": "code",
   "execution_count": 17,
   "metadata": {},
   "outputs": [
    {
     "data": {
      "text/html": [
       "<div>\n",
       "<style scoped>\n",
       "    .dataframe tbody tr th:only-of-type {\n",
       "        vertical-align: middle;\n",
       "    }\n",
       "\n",
       "    .dataframe tbody tr th {\n",
       "        vertical-align: top;\n",
       "    }\n",
       "\n",
       "    .dataframe thead th {\n",
       "        text-align: right;\n",
       "    }\n",
       "</style>\n",
       "<table border=\"1\" class=\"dataframe\">\n",
       "  <thead>\n",
       "    <tr style=\"text-align: right;\">\n",
       "      <th></th>\n",
       "      <th>ga:segment</th>\n",
       "      <th>ga:userType</th>\n",
       "      <th>ga:users</th>\n",
       "    </tr>\n",
       "  </thead>\n",
       "  <tbody>\n",
       "    <tr>\n",
       "      <th>0</th>\n",
       "      <td>All Users</td>\n",
       "      <td>New Visitor</td>\n",
       "      <td>37297</td>\n",
       "    </tr>\n",
       "    <tr>\n",
       "      <th>1</th>\n",
       "      <td>All Users</td>\n",
       "      <td>Returning Visitor</td>\n",
       "      <td>11387</td>\n",
       "    </tr>\n",
       "  </tbody>\n",
       "</table>\n",
       "</div>"
      ],
      "text/plain": [
       "  ga:segment        ga:userType  ga:users\n",
       "0  All Users        New Visitor     37297\n",
       "1  All Users  Returning Visitor     11387"
      ]
     },
     "execution_count": 17,
     "metadata": {},
     "output_type": "execute_result"
    }
   ],
   "source": [
    "df"
   ]
  },
  {
   "cell_type": "code",
   "execution_count": null,
   "metadata": {},
   "outputs": [],
   "source": []
  }
 ],
 "metadata": {
  "kernelspec": {
   "display_name": "Python 2",
   "language": "python",
   "name": "python2"
  },
  "language_info": {
   "codemirror_mode": {
    "name": "ipython",
    "version": 2
   },
   "file_extension": ".py",
   "mimetype": "text/x-python",
   "name": "python",
   "nbconvert_exporter": "python",
   "pygments_lexer": "ipython2",
   "version": "2.7.15"
  }
 },
 "nbformat": 4,
 "nbformat_minor": 2
}
